{
 "cells": [
  {
   "cell_type": "code",
   "execution_count": 275,
   "metadata": {
    "collapsed": false
   },
   "outputs": [],
   "source": [
    "import numpy as np\n",
    "import pandas as pd"
   ]
  },
  {
   "cell_type": "markdown",
   "metadata": {},
   "source": [
    "### Чтение файла "
   ]
  },
  {
   "cell_type": "code",
   "execution_count": 277,
   "metadata": {
    "collapsed": true
   },
   "outputs": [],
   "source": [
    "# менять данную константу, если нужно сменить имя файла\n",
    "FILE = 'try.xlsx'"
   ]
  },
  {
   "cell_type": "code",
   "execution_count": 278,
   "metadata": {
    "collapsed": false
   },
   "outputs": [],
   "source": [
    "data = pd.read_excel(FILE, index_col=0)"
   ]
  },
  {
   "cell_type": "markdown",
   "metadata": {},
   "source": [
    "## 1) Фильтр отсутствия данных"
   ]
  },
  {
   "cell_type": "code",
   "execution_count": 280,
   "metadata": {
    "collapsed": true
   },
   "outputs": [],
   "source": [
    "#Константа для порогового значения, больше этого значения анкеты убираем\n",
    "THRESHOLD = 0.4"
   ]
  },
  {
   "cell_type": "markdown",
   "metadata": {},
   "source": [
    "Формируем набор $\\phi_i $"
   ]
  },
  {
   "cell_type": "code",
   "execution_count": 281,
   "metadata": {
    "collapsed": false
   },
   "outputs": [
    {
     "data": {
      "text/plain": [
       "Date\n",
       "2015-12-20    0.588235\n",
       "2015-12-21    0.411765\n",
       "dtype: float64"
      ]
     },
     "execution_count": 281,
     "metadata": {},
     "output_type": "execute_result"
    }
   ],
   "source": [
    "logic_data = data.isnull()\n",
    "ssv = logic_data.sum().sum() #сумма по всем v_ij\n",
    "sv = logic_data.sum() #сумма по столбцам\n",
    "#print(sv)\n",
    "q_j = ssv/sv\n",
    "sq_j = q_j[q_j != np.inf].sum() # стобцы со всеми заполненными строками не участвуют\n",
    "#print(sq_j)\n",
    "\n",
    "q_j[q_j == np.inf] = sq_j #костыли, чтоб бесконечности не было\n",
    "Q_j = q_j / sq_j\n",
    "#print(Q_j)\n",
    "pheta_table = Q_j * logic_data\n",
    "pheta_i = pheta_table.sum(axis=1)\n",
    "pheta_i_sorted = pheta_i.sort_values(ascending=False)\n",
    "pheta_i_sorted[pheta_i_sorted>THRESHOLD]"
   ]
  },
  {
   "cell_type": "code",
   "execution_count": 282,
   "metadata": {
    "collapsed": false
   },
   "outputs": [
    {
     "data": {
      "text/plain": [
       "X1    2\n",
       "X2    0\n",
       "X3    5\n",
       "X4    1\n",
       "dtype: int64"
      ]
     },
     "execution_count": 282,
     "metadata": {},
     "output_type": "execute_result"
    }
   ],
   "source": [
    "sv"
   ]
  },
  {
   "cell_type": "markdown",
   "metadata": {},
   "source": [
    "Визуализируем"
   ]
  },
  {
   "cell_type": "code",
   "execution_count": 283,
   "metadata": {
    "collapsed": false
   },
   "outputs": [
    {
     "name": "stdout",
     "output_type": "stream",
     "text": [
      "Populating the interactive namespace from numpy and matplotlib\n"
     ]
    },
    {
     "data": {
      "text/plain": [
       "<matplotlib.axes._subplots.AxesSubplot at 0x2295c734ef0>"
      ]
     },
     "execution_count": 283,
     "metadata": {},
     "output_type": "execute_result"
    },
    {
     "data": {
      "image/png": "[encoded data removed]",
      "text/plain": [
       "<matplotlib.figure.Figure at 0x2295c77e438>"
      ]
     },
     "metadata": {},
     "output_type": "display_data"
    }
   ],
   "source": [
    "import matplotlib.pylab as pl\n",
    "%pylab inline\n",
    "pheta_i_sorted.plot(kind='bar')\n"
   ]
  },
  {
   "cell_type": "markdown",
   "metadata": {},
   "source": [
    "##  2) Фильтр отсутствия данных групповой"
   ]
  },
  {
   "cell_type": "markdown",
   "metadata": {},
   "source": [
    "Этот блок можно использовать для создания массива индексов групп пакетов"
   ]
  },
  {
   "cell_type": "code",
   "execution_count": 285,
   "metadata": {
    "collapsed": true
   },
   "outputs": [],
   "source": [
    "Nr = 5 # Количество анкет в пакете"
   ]
  },
  {
   "cell_type": "code",
   "execution_count": 286,
   "metadata": {
    "collapsed": false
   },
   "outputs": [],
   "source": [
    "ss_pheta_i = pheta_i.sum().sum()\n",
    "Nr_counter = 0\n",
    "N0 = len(data.index)\n",
    "#делаем массив пакетов (начало, конец)\n",
    "groups = []\n",
    "one = []\n",
    "####################################\n",
    "# Делаем группы пакетов ############\n",
    "def make_groups(Nr):\n",
    "    groups = []\n",
    "    one = []\n",
    "    for row_n in range(N0):\n",
    "        if (len(one) == Nr):\n",
    "            groups.append(one)\n",
    "            one = []\n",
    "        one.append(data.index[row_n])\n",
    "    else:\n",
    "        if len(one)>0:\n",
    "            groups.append(one) \n",
    "    return groups\n",
    "####################################"
   ]
  },
  {
   "cell_type": "markdown",
   "metadata": {},
   "source": [
    "Конец блока"
   ]
  },
  {
   "cell_type": "code",
   "execution_count": 287,
   "metadata": {
    "collapsed": false
   },
   "outputs": [],
   "source": [
    "Vr = []\n",
    "groups = make_groups(Nr)\n",
    "for group in groups:\n",
    "    pheta_group = pheta_i[group]\n",
    "    Wr = pheta_group.sum() / len(group)\n",
    "    W_r = (ss_pheta_i -  pheta_group.sum()) / (N0 - len(group))\n",
    "    Vr.append(W_r - Wr)"
   ]
  },
  {
   "cell_type": "markdown",
   "metadata": {},
   "source": [
    "Визуализируем"
   ]
  },
  {
   "cell_type": "code",
   "execution_count": 394,
   "metadata": {
    "collapsed": false
   },
   "outputs": [
    {
     "data": {
      "text/plain": [
       "<matplotlib.axes._subplots.AxesSubplot at 0x2295c886dd8>"
      ]
     },
     "execution_count": 394,
     "metadata": {},
     "output_type": "execute_result"
    },
    {
     "data": {
      "image/png": "[encoded data removed]",
      "text/plain": [
       "<matplotlib.figure.Figure at 0x2295c8888d0>"
      ]
     },
     "metadata": {},
     "output_type": "display_data"
    }
   ],
   "source": [
    "Vr_p = pd.DataFrame(Vr)\n",
    "Vr_p = Vr_p.sort_values(by=0)\n",
    "Vr_p.plot(kind='bar')"
   ]
  },
  {
   "cell_type": "markdown",
   "metadata": {},
   "source": [
    "## 3) Фильтр экстремальных непрерывных значений"
   ]
  },
  {
   "cell_type": "code",
   "execution_count": 418,
   "metadata": {
    "collapsed": false
   },
   "outputs": [],
   "source": [
    "X_minus_r = []\n",
    "X_r = []\n",
    "groups = make_groups(Nr)\n",
    "for group in groups:\n",
    "    data_group = data.loc[group]\n",
    "    X_r.append(data_group.mean())\n",
    "    data_group_out = data.loc[(data.index < group[0]) | (data.index > group[-1])]\n",
    "    X_minus_r.append(data_group_out.mean())\n",
    "    \n",
    "lambd = []\n",
    "for i in range(len(X_r)):\n",
    "    lambd.append(X_minus_r[i] - X_r[i])\n",
    "    \n",
    "la = pd.DataFrame(lambd)\n",
    "logic = la == la.max()\n",
    "Mu_i = logic.sum(axis=1)"
   ]
  },
  {
   "cell_type": "code",
   "execution_count": 419,
   "metadata": {
    "collapsed": true
   },
   "outputs": [],
   "source": [
    "THRESHOLD = 2."
   ]
  },
  {
   "cell_type": "markdown",
   "metadata": {},
   "source": [
    "Визуализируем"
   ]
  },
  {
   "cell_type": "code",
   "execution_count": 420,
   "metadata": {
    "collapsed": false
   },
   "outputs": [
    {
     "data": {
      "text/plain": [
       "<matplotlib.axes._subplots.AxesSubplot at 0x2295ebb0588>"
      ]
     },
     "execution_count": 420,
     "metadata": {},
     "output_type": "execute_result"
    },
    {
     "data": {
      "image/png": "[encoded data removed]",
      "text/plain": [
       "<matplotlib.figure.Figure at 0x2295ec4fa58>"
      ]
     },
     "metadata": {},
     "output_type": "display_data"
    }
   ],
   "source": [
    "#Mu_p = pd.DataFrame(Mu_i)\n",
    "Mu_sorted = Mu_i.sort_values(ascending=False)\n",
    "Mu_sorted.plot(kind='bar')\n",
    "#Mu_p[Mu_p>THRESHOLD]"
   ]
  },
  {
   "cell_type": "markdown",
   "metadata": {
    "collapsed": false
   },
   "source": [
    "## 4) Фильтр ранжирования непрерывных значений"
   ]
  },
  {
   "cell_type": "code",
   "execution_count": 423,
   "metadata": {
    "collapsed": false
   },
   "outputs": [],
   "source": [
    "M_4 = la.rank()"
   ]
  },
  {
   "cell_type": "code",
   "execution_count": 424,
   "metadata": {
    "collapsed": false
   },
   "outputs": [
    {
     "data": {
      "text/plain": [
       "<matplotlib.axes._subplots.AxesSubplot at 0x2295ec9fb00>"
      ]
     },
     "execution_count": 424,
     "metadata": {},
     "output_type": "execute_result"
    },
    {
     "data": {
      "image/png": "[encoded data removed]",
      "text/plain": [
       "<matplotlib.figure.Figure at 0x2295ec14c18>"
      ]
     },
     "metadata": {},
     "output_type": "display_data"
    }
   ],
   "source": [
    "M_4_sorted = Mu_i.sort_values(ascending=False)\n",
    "M_4_sorted.plot(kind='bar')"
   ]
  },
  {
   "cell_type": "markdown",
   "metadata": {},
   "source": [
    "## 5) Фильтр метрический непрерывных значений"
   ]
  },
  {
   "cell_type": "code",
   "execution_count": null,
   "metadata": {
    "collapsed": true
   },
   "outputs": [],
   "source": []
  },
  {
   "cell_type": "code",
   "execution_count": null,
   "metadata": {
    "collapsed": true
   },
   "outputs": [],
   "source": []
  },
  {
   "cell_type": "markdown",
   "metadata": {},
   "source": [
    "## 6) Фильтр частот кодирования"
   ]
  },
  {
   "cell_type": "code",
   "execution_count": null,
   "metadata": {
    "collapsed": true
   },
   "outputs": [],
   "source": []
  },
  {
   "cell_type": "code",
   "execution_count": null,
   "metadata": {
    "collapsed": true
   },
   "outputs": [],
   "source": []
  },
  {
   "cell_type": "markdown",
   "metadata": {},
   "source": [
    "## 7) Фильтр замены кодированных значений"
   ]
  },
  {
   "cell_type": "code",
   "execution_count": 478,
   "metadata": {
    "collapsed": false
   },
   "outputs": [],
   "source": [
    "A = data.copy()\n",
    "for col in A:\n",
    "    val_c = dict(A[col].value_counts())\n",
    "    A[col] = A[col].map(val_c)\n",
    "A_norm = A/len(A.index)\n",
    "A_i = sum(A_norm, axis=1)"
   ]
  },
  {
   "cell_type": "markdown",
   "metadata": {},
   "source": [
    "Визуализируем"
   ]
  },
  {
   "cell_type": "code",
   "execution_count": 481,
   "metadata": {
    "collapsed": true
   },
   "outputs": [],
   "source": [
    "THRESHOLD = 2."
   ]
  },
  {
   "cell_type": "code",
   "execution_count": 482,
   "metadata": {
    "collapsed": false
   },
   "outputs": [
    {
     "data": {
      "text/plain": [
       "<matplotlib.axes._subplots.AxesSubplot at 0x2295eef9780>"
      ]
     },
     "execution_count": 482,
     "metadata": {},
     "output_type": "execute_result"
    },
    {
     "data": {
      "image/png": "[encoded data removed]",
      "text/plain": [
       "<matplotlib.figure.Figure at 0x2295ef60dd8>"
      ]
     },
     "metadata": {},
     "output_type": "display_data"
    }
   ],
   "source": [
    "A_i = A_i.sort_values(ascending=False)\n",
    "A_i.plot(kind='bar')\n",
    "#A_i[A_i>THRESHOLD]"
   ]
  },
  {
   "cell_type": "code",
   "execution_count": null,
   "metadata": {
    "collapsed": true
   },
   "outputs": [],
   "source": []
  }
 ],
 "metadata": {
  "kernelspec": {
   "display_name": "Python 3",
   "language": "python",
   "name": "python3"
  },
  "language_info": {
   "codemirror_mode": {
    "name": "ipython",
    "version": 3
   },
   "file_extension": ".py",
   "mimetype": "text/x-python",
   "name": "python",
   "nbconvert_exporter": "python",
   "pygments_lexer": "ipython3",
   "version": "3.5.0"
  }
 },
 "nbformat": 4,
 "nbformat_minor": 0
}
