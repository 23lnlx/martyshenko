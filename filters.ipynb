{
 "cells": [
  {
   "cell_type": "code",
   "execution_count": 36,
   "metadata": {
    "collapsed": false
   },
   "outputs": [],
   "source": [
    "import numpy as np\n",
    "import pandas as pd"
   ]
  },
  {
   "cell_type": "markdown",
   "metadata": {},
   "source": [
    "### Чтение файла "
   ]
  },
  {
   "cell_type": "code",
   "execution_count": 54,
   "metadata": {
    "collapsed": true
   },
   "outputs": [],
   "source": [
    "# менять данную константу, если нужно сменить имя файла\n",
    "FILE = 'done.xlsx'"
   ]
  },
  {
   "cell_type": "code",
   "execution_count": 55,
   "metadata": {
    "collapsed": false
   },
   "outputs": [],
   "source": [
    "data = pd.read_excel(FILE, index_col=0)"
   ]
  },
  {
   "cell_type": "markdown",
   "metadata": {},
   "source": [
    "## 1) Фильтр отсутствия данных"
   ]
  },
  {
   "cell_type": "code",
   "execution_count": 81,
   "metadata": {
    "collapsed": true
   },
   "outputs": [],
   "source": [
    "#Константа для порогового значения, больше этого значения анкеты убираем\n",
    "THRESHOLD1 = 0.25"
   ]
  },
  {
   "cell_type": "markdown",
   "metadata": {},
   "source": [
    "Формируем набор $\\phi_i $"
   ]
  },
  {
   "cell_type": "code",
   "execution_count": 83,
   "metadata": {
    "collapsed": false
   },
   "outputs": [
    {
     "data": {
      "text/plain": [
       "29"
      ]
     },
     "execution_count": 83,
     "metadata": {},
     "output_type": "execute_result"
    }
   ],
   "source": [
    "logic_data = data.isnull()\n",
    "ssv = logic_data.sum().sum() #сумма по всем v_ij\n",
    "sv = logic_data.sum() #сумма по столбцам\n",
    "#print(sv)\n",
    "q_j = ssv/sv\n",
    "sq_j = q_j[q_j != np.inf].sum() # стобцы со всеми заполненными строками не участвуют\n",
    "#print(sq_j)\n",
    "\n",
    "q_j[q_j == np.inf] = sq_j #костыли, чтоб бесконечности не было\n",
    "Q_j = q_j / sq_j\n",
    "#print(Q_j)\n",
    "pheta_table = Q_j * logic_data\n",
    "pheta_i = pheta_table.sum(axis=1)\n",
    "pheta_i_sorted = pheta_i.sort_values(ascending=False)\n",
    "FILTER1 = pheta_i_sorted[pheta_i_sorted>THRESHOLD1]\n",
    "len(pheta_i_sorted[pheta_i_sorted>THRESHOLD1])"
   ]
  },
  {
   "cell_type": "markdown",
   "metadata": {},
   "source": [
    "Визуализируем"
   ]
  },
  {
   "cell_type": "code",
   "execution_count": 86,
   "metadata": {
    "collapsed": false
   },
   "outputs": [
    {
     "name": "stdout",
     "output_type": "stream",
     "text": [
      "Populating the interactive namespace from numpy and matplotlib\n"
     ]
    },
    {
     "data": {
      "text/plain": [
       "Отметка времени\n",
       "2015-11-29 00:50:00.060    0.587225\n",
       "2015-11-29 11:41:13.100    0.417564\n",
       "2015-11-29 00:44:48.832    0.317458\n",
       "2015-11-28 22:02:12.267    0.317458\n",
       "2015-11-30 20:37:25.482    0.312668\n",
       "2015-11-28 23:49:06.686    0.312668\n",
       "2015-11-29 15:14:48.499    0.312668\n",
       "2015-11-25 02:42:49.117    0.312668\n",
       "2015-11-30 16:34:34.458    0.312668\n",
       "2015-11-29 01:12:17.597    0.312668\n",
       "2015-11-25 00:44:56.367    0.312668\n",
       "2015-11-28 22:01:39.612    0.312668\n",
       "2015-11-24 16:35:30.310    0.312668\n",
       "2015-11-24 16:50:05.481    0.312668\n",
       "2015-11-24 17:13:24.873    0.312668\n",
       "2015-11-26 16:39:32.915    0.312668\n",
       "2015-11-28 19:46:06.095    0.281056\n",
       "2015-11-28 20:47:10.988    0.281056\n",
       "2015-11-26 15:44:33.928    0.281056\n",
       "2015-11-17 22:17:39.372    0.281056\n",
       "2015-11-27 01:23:36.467    0.281056\n",
       "2015-11-17 22:27:18.650    0.281056\n",
       "2015-11-26 15:07:35.755    0.281056\n",
       "2015-11-18 01:13:20.611    0.281056\n",
       "2015-11-17 22:37:04.847    0.281056\n",
       "2015-11-17 22:30:43.561    0.281056\n",
       "2015-11-29 14:25:17.144    0.281056\n",
       "2015-11-28 20:33:57.483    0.281056\n",
       "2015-11-28 19:46:59.175    0.281056\n",
       "2015-11-28 23:26:08.192    0.178328\n",
       "2015-11-29 12:26:49.398    0.150634\n",
       "2015-11-24 18:53:44.733    0.141298\n",
       "2015-11-25 00:04:09.927    0.141298\n",
       "2015-11-26 07:12:22.747    0.039051\n",
       "2015-11-25 19:07:58.051    0.039051\n",
       "2015-11-28 21:55:33.018    0.038917\n",
       "2015-11-28 19:36:18.530    0.023619\n",
       "2015-11-24 21:16:39.065    0.022991\n",
       "2015-11-28 20:01:38.525    0.021853\n",
       "2015-11-18 16:07:39.743    0.021853\n",
       "2015-11-18 16:07:27.523    0.021853\n",
       "2015-11-25 07:52:29.449    0.021853\n",
       "2015-11-28 20:49:28.014    0.020850\n",
       "2015-11-24 21:08:22.158    0.020850\n",
       "2015-11-24 19:13:35.216    0.020850\n",
       "2015-11-25 12:50:18.193    0.020850\n",
       "2015-11-25 16:10:27.633    0.004790\n",
       "2015-11-28 19:46:06.428    0.004790\n",
       "2015-11-24 18:52:47.252    0.004790\n",
       "2015-11-26 07:19:37.408    0.004790\n",
       "dtype: float64"
      ]
     },
     "execution_count": 86,
     "metadata": {},
     "output_type": "execute_result"
    },
    {
     "data": {
      "image/png": "[encoded data removed]",
      "text/plain": [
       "<matplotlib.figure.Figure at 0x20a96178860>"
      ]
     },
     "metadata": {},
     "output_type": "display_data"
    }
   ],
   "source": [
    "import matplotlib.pylab as pl\n",
    "%pylab inline\n",
    "pheta_i_sorted[pheta_i_sorted>THRESHOLD1].plot(kind='bar')\n",
    "pheta_i_sorted.head(50)"
   ]
  },
  {
   "cell_type": "code",
   "execution_count": 85,
   "metadata": {
    "collapsed": false
   },
   "outputs": [],
   "source": [
    "new_data1 = data.drop(FILTER1.index)"
   ]
  },
  {
   "cell_type": "markdown",
   "metadata": {},
   "source": [
    "##  2) Фильтр отсутствия данных групповой"
   ]
  },
  {
   "cell_type": "markdown",
   "metadata": {},
   "source": [
    "Этот блок можно использовать для создания массива индексов групп пакетов"
   ]
  },
  {
   "cell_type": "code",
   "execution_count": 63,
   "metadata": {
    "collapsed": true
   },
   "outputs": [],
   "source": [
    "Nr = 5 # Количество анкет в пакете"
   ]
  },
  {
   "cell_type": "code",
   "execution_count": 64,
   "metadata": {
    "collapsed": false
   },
   "outputs": [],
   "source": [
    "ss_pheta_i = pheta_i.sum().sum()\n",
    "Nr_counter = 0\n",
    "N0 = len(data.index)\n",
    "#делаем массив пакетов (начало, конец)\n",
    "groups = []\n",
    "one = []\n",
    "####################################\n",
    "# Делаем группы пакетов ############\n",
    "def make_groups(Nr):\n",
    "    groups = []\n",
    "    one = []\n",
    "    for row_n in range(N0):\n",
    "        if (len(one) == Nr):\n",
    "            groups.append(one)\n",
    "            one = []\n",
    "        one.append(data.index[row_n])\n",
    "    else:\n",
    "        if len(one)>0:\n",
    "            groups.append(one) \n",
    "    return groups\n",
    "####################################"
   ]
  },
  {
   "cell_type": "markdown",
   "metadata": {},
   "source": [
    "Конец блока"
   ]
  },
  {
   "cell_type": "code",
   "execution_count": 65,
   "metadata": {
    "collapsed": false
   },
   "outputs": [],
   "source": [
    "Vr = []\n",
    "groups = make_groups(Nr)\n",
    "for group in groups:\n",
    "    pheta_group = pheta_i[group]\n",
    "    Wr = pheta_group.sum() / len(group)\n",
    "    W_r = (ss_pheta_i -  pheta_group.sum()) / (N0 - len(group))\n",
    "    Vr.append(W_r - Wr)"
   ]
  },
  {
   "cell_type": "markdown",
   "metadata": {},
   "source": [
    "Визуализируем"
   ]
  },
  {
   "cell_type": "code",
   "execution_count": 66,
   "metadata": {
    "collapsed": false
   },
   "outputs": [
    {
     "data": {
      "text/html": [
       "<div>\n",
       "<table border=\"1\" class=\"dataframe\">\n",
       "  <thead>\n",
       "    <tr style=\"text-align: right;\">\n",
       "      <th></th>\n",
       "      <th>0</th>\n",
       "    </tr>\n",
       "  </thead>\n",
       "  <tbody>\n",
       "    <tr>\n",
       "      <th>19</th>\n",
       "      <td>-0.169785</td>\n",
       "    </tr>\n",
       "    <tr>\n",
       "      <th>11</th>\n",
       "      <td>-0.133454</td>\n",
       "    </tr>\n",
       "    <tr>\n",
       "      <th>23</th>\n",
       "      <td>-0.111607</td>\n",
       "    </tr>\n",
       "    <tr>\n",
       "      <th>24</th>\n",
       "      <td>-0.111607</td>\n",
       "    </tr>\n",
       "    <tr>\n",
       "      <th>2</th>\n",
       "      <td>-0.091856</td>\n",
       "    </tr>\n",
       "  </tbody>\n",
       "</table>\n",
       "</div>"
      ],
      "text/plain": [
       "           0\n",
       "19 -0.169785\n",
       "11 -0.133454\n",
       "23 -0.111607\n",
       "24 -0.111607\n",
       "2  -0.091856"
      ]
     },
     "execution_count": 66,
     "metadata": {},
     "output_type": "execute_result"
    },
    {
     "data": {
      "image/png": "[encoded data removed]",
      "text/plain": [
       "<matplotlib.figure.Figure at 0x20a95ff39e8>"
      ]
     },
     "metadata": {},
     "output_type": "display_data"
    }
   ],
   "source": [
    "Vr_p = pd.DataFrame(Vr)\n",
    "Vr_p = Vr_p.sort_values(by=0)\n",
    "Vr_p.plot(kind='bar')\n",
    "Vr_p.head()"
   ]
  },
  {
   "cell_type": "code",
   "execution_count": 80,
   "metadata": {
    "collapsed": false
   },
   "outputs": [],
   "source": [
    "#THRESHOLD2 = -0.1\n",
    "#FILTER2 = Vr_p[Vr_p < THRESHOLD2]\n",
    "#new_data2 = data.drop(FILTER2.index)"
   ]
  },
  {
   "cell_type": "markdown",
   "metadata": {},
   "source": [
    "## 3) Фильтр экстремальных непрерывных значений"
   ]
  },
  {
   "cell_type": "code",
   "execution_count": 68,
   "metadata": {
    "collapsed": true
   },
   "outputs": [],
   "source": [
    "#data = "
   ]
  },
  {
   "cell_type": "code",
   "execution_count": 69,
   "metadata": {
    "collapsed": false
   },
   "outputs": [],
   "source": [
    "X_minus_r = []\n",
    "X_r = []\n",
    "groups = make_groups(Nr)\n",
    "for group in groups:\n",
    "    data_group = data.loc[group]\n",
    "    X_r.append(data_group.mean())\n",
    "    data_group_out = data.loc[(data.index < group[0]) | (data.index > group[-1])]\n",
    "    X_minus_r.append(data_group_out.mean())\n",
    "    \n",
    "lambd = []\n",
    "for i in range(len(X_r)):\n",
    "    lambd.append(X_minus_r[i] - X_r[i])\n",
    "    \n",
    "la = pd.DataFrame(lambd)\n",
    "logic = la == la.max()\n",
    "Mu_i = logic.sum(axis=1)"
   ]
  },
  {
   "cell_type": "code",
   "execution_count": 70,
   "metadata": {
    "collapsed": true
   },
   "outputs": [],
   "source": [
    "THRESHOLD3 = 0.9"
   ]
  },
  {
   "cell_type": "markdown",
   "metadata": {},
   "source": [
    "Визуализируем"
   ]
  },
  {
   "cell_type": "code",
   "execution_count": 79,
   "metadata": {
    "collapsed": false
   },
   "outputs": [
    {
     "data": {
      "text/plain": [
       "0     6\n",
       "12    5\n",
       "21    3\n",
       "19    3\n",
       "18    3\n",
       "dtype: int64"
      ]
     },
     "execution_count": 79,
     "metadata": {},
     "output_type": "execute_result"
    },
    {
     "data": {
      "image/png": "[encoded data removed]",
      "text/plain": [
       "<matplotlib.figure.Figure at 0x20a95ff1780>"
      ]
     },
     "metadata": {},
     "output_type": "display_data"
    }
   ],
   "source": [
    "#Mu_p = pd.DataFrame(Mu_i)\n",
    "Mu_sorted = Mu_i.sort_values(ascending=False)\n",
    "Mu_sorted.plot(kind='bar')\n",
    "#Mu_p[Mu_p>THRESHOLD]\n",
    "Mu_sorted.head()"
   ]
  },
  {
   "cell_type": "code",
   "execution_count": 72,
   "metadata": {
    "collapsed": false
   },
   "outputs": [],
   "source": [
    "BAD_PACK = 0\n",
    "FILTER3 = groups[BAD_PACK]\n",
    "new_data3 = data.drop(FILTER3)"
   ]
  },
  {
   "cell_type": "markdown",
   "metadata": {
    "collapsed": false
   },
   "source": [
    "## 4) Фильтр ранжирования непрерывных значений"
   ]
  },
  {
   "cell_type": "code",
   "execution_count": 73,
   "metadata": {
    "collapsed": false
   },
   "outputs": [],
   "source": [
    "X_minus_r = []\n",
    "X_r = []\n",
    "groups = make_groups(Nr)\n",
    "for group in groups:\n",
    "    data_group = data.loc[group]\n",
    "    X_r.append(data_group.mean())\n",
    "    data_group_out = data.loc[(data.index < group[0]) | (data.index > group[-1])]\n",
    "    X_minus_r.append(data_group_out.mean())\n",
    "    \n",
    "lambd = []\n",
    "for i in range(len(X_r)):\n",
    "    lambd.append(X_minus_r[i] - X_r[i])\n",
    "    \n",
    "la = pd.DataFrame(lambd)\n",
    "M_4 = la.rank()"
   ]
  },
  {
   "cell_type": "code",
   "execution_count": 74,
   "metadata": {
    "collapsed": false
   },
   "outputs": [
    {
     "data": {
      "text/plain": [
       "0     6\n",
       "12    5\n",
       "21    3\n",
       "19    3\n",
       "18    3\n",
       "dtype: int64"
      ]
     },
     "execution_count": 74,
     "metadata": {},
     "output_type": "execute_result"
    },
    {
     "data": {
      "image/png": "[encoded data removed]",
      "text/plain": [
       "<matplotlib.figure.Figure at 0x20a979be6a0>"
      ]
     },
     "metadata": {},
     "output_type": "display_data"
    }
   ],
   "source": [
    "M_4_sorted = Mu_i.sort_values(ascending=False)\n",
    "M_4_sorted.plot(kind='bar')\n",
    "M_4_sorted.head()"
   ]
  },
  {
   "cell_type": "code",
   "execution_count": 75,
   "metadata": {
    "collapsed": true
   },
   "outputs": [],
   "source": [
    "BAD_PACK = 0\n",
    "FILTER4 = groups[BAD_PACK]\n",
    "new_data4 = data.drop(FILTER4)"
   ]
  },
  {
   "cell_type": "markdown",
   "metadata": {},
   "source": [
    "## 5) Фильтр метрический непрерывных значений"
   ]
  },
  {
   "cell_type": "code",
   "execution_count": null,
   "metadata": {
    "collapsed": true
   },
   "outputs": [],
   "source": []
  },
  {
   "cell_type": "code",
   "execution_count": null,
   "metadata": {
    "collapsed": true
   },
   "outputs": [],
   "source": []
  },
  {
   "cell_type": "markdown",
   "metadata": {},
   "source": [
    "## 6) Фильтр частот кодирования"
   ]
  },
  {
   "cell_type": "code",
   "execution_count": null,
   "metadata": {
    "collapsed": true
   },
   "outputs": [],
   "source": []
  },
  {
   "cell_type": "code",
   "execution_count": null,
   "metadata": {
    "collapsed": true
   },
   "outputs": [],
   "source": []
  },
  {
   "cell_type": "markdown",
   "metadata": {},
   "source": [
    "## 7) Фильтр замены кодированных значений"
   ]
  },
  {
   "cell_type": "code",
   "execution_count": 76,
   "metadata": {
    "collapsed": false
   },
   "outputs": [],
   "source": [
    "A = data.copy()\n",
    "for col in A:\n",
    "    val_c = dict(A[col].value_counts())\n",
    "    A[col] = A[col].map(val_c)\n",
    "A_norm = A/len(A.index)\n",
    "A_i = sum(A_norm, axis=1)"
   ]
  },
  {
   "cell_type": "markdown",
   "metadata": {},
   "source": [
    "Визуализируем"
   ]
  },
  {
   "cell_type": "code",
   "execution_count": 77,
   "metadata": {
    "collapsed": true
   },
   "outputs": [],
   "source": [
    "THRESHOLD = 0.2"
   ]
  },
  {
   "cell_type": "code",
   "execution_count": 78,
   "metadata": {
    "collapsed": false
   },
   "outputs": [
    {
     "data": {
      "text/plain": [
       "Отметка времени\n",
       "2015-11-17 22:55:49.975    9.515873\n",
       "2015-11-24 20:37:28.534    9.269841\n",
       "2015-11-18 06:44:33.302    9.253968\n",
       "2015-11-28 23:15:00.021    8.992063\n",
       "2015-11-28 19:39:36.486    8.976190\n",
       "2015-11-24 17:28:17.460    8.968254\n",
       "2015-11-17 23:49:52.622    8.896825\n",
       "2015-11-24 19:17:03.162    8.888889\n",
       "2015-11-18 01:26:02.090    8.833333\n",
       "2015-11-25 07:52:29.449    8.825397\n",
       "2015-11-24 17:24:57.791    8.793651\n",
       "2015-11-24 20:13:29.265    8.793651\n",
       "2015-11-29 00:32:00.909    8.769841\n",
       "2015-11-28 20:43:49.517    8.769841\n",
       "2015-11-28 19:10:00.098    8.769841\n",
       "2015-11-17 22:30:34.093    8.738095\n",
       "2015-11-29 00:02:06.946    8.698413\n",
       "2015-11-24 18:53:44.733    8.634921\n",
       "2015-11-29 12:37:35.778    8.603175\n",
       "2015-11-29 12:08:48.359    8.571429\n",
       "2015-11-28 19:54:56.925    8.571429\n",
       "2015-11-26 07:19:37.408    8.539683\n",
       "2015-11-24 22:00:41.550    8.523810\n",
       "2015-11-28 20:01:38.525    8.523810\n",
       "2015-11-28 19:09:27.330    8.515873\n",
       "2015-11-28 19:41:38.325    8.507937\n",
       "2015-11-24 15:58:21.290    8.476190\n",
       "2015-11-29 09:56:25.607    8.476190\n",
       "2015-11-17 23:49:41.788    8.476190\n",
       "2015-11-24 19:13:35.216    8.476190\n",
       "                             ...   \n",
       "2015-11-29 12:26:49.398    6.253968\n",
       "2015-11-24 21:16:39.065    5.904762\n",
       "2015-11-17 22:27:18.650    4.944444\n",
       "2015-11-17 22:30:43.561    4.904762\n",
       "2015-11-28 20:47:10.988    4.714286\n",
       "2015-11-18 01:13:20.611    4.500000\n",
       "2015-11-26 15:44:33.928    4.460317\n",
       "2015-11-28 19:46:06.095    4.301587\n",
       "2015-11-29 11:41:13.100    4.261905\n",
       "2015-11-17 22:17:39.372    4.206349\n",
       "2015-11-17 22:37:04.847    4.150794\n",
       "2015-11-26 15:07:35.755    4.126984\n",
       "2015-11-29 14:25:17.144    3.984127\n",
       "2015-11-28 22:01:39.612    3.769841\n",
       "2015-11-28 19:46:59.175    3.722222\n",
       "2015-11-24 16:35:30.310    3.714286\n",
       "2015-11-27 01:23:36.467    3.658730\n",
       "2015-11-25 00:44:56.367    3.579365\n",
       "2015-11-28 22:02:12.267    3.500000\n",
       "2015-11-24 17:13:24.873    3.484127\n",
       "2015-11-28 20:33:57.483    3.468254\n",
       "2015-11-29 15:14:48.499    3.325397\n",
       "2015-11-25 02:42:49.117    3.301587\n",
       "2015-11-26 16:39:32.915    3.261905\n",
       "2015-11-29 00:44:48.832    3.253968\n",
       "2015-11-30 16:34:34.458    3.182540\n",
       "2015-11-24 16:50:05.481    3.158730\n",
       "2015-11-28 23:49:06.686    3.103175\n",
       "2015-11-30 20:37:25.482    3.031746\n",
       "2015-11-29 01:12:17.597    2.865079\n",
       "dtype: float64"
      ]
     },
     "execution_count": 78,
     "metadata": {},
     "output_type": "execute_result"
    },
    {
     "data": {
      "image/png": "[encoded data removed]",
      "text/plain": [
       "<matplotlib.figure.Figure at 0x20a97a1cb70>"
      ]
     },
     "metadata": {},
     "output_type": "display_data"
    }
   ],
   "source": [
    "A_i = A_i.sort_values(ascending=False)\n",
    "A_i[A_i>THRESHOLD].plot(kind='bar')\n",
    "A_i[A_i>THRESHOLD]"
   ]
  },
  {
   "cell_type": "code",
   "execution_count": 590,
   "metadata": {
    "collapsed": false
   },
   "outputs": [],
   "source": [
    "FILTER7 = A_i[A_i > THRESHOLD2]\n",
    "new_data7 = data.drop(FILTER7.index)"
   ]
  },
  {
   "cell_type": "code",
   "execution_count": null,
   "metadata": {
    "collapsed": true
   },
   "outputs": [],
   "source": []
  },
  {
   "cell_type": "code",
   "execution_count": null,
   "metadata": {
    "collapsed": true
   },
   "outputs": [],
   "source": []
  }
 ],
 "metadata": {
  "kernelspec": {
   "display_name": "Python 3",
   "language": "python",
   "name": "python3"
  },
  "language_info": {
   "codemirror_mode": {
    "name": "ipython",
    "version": 3
   },
   "file_extension": ".py",
   "mimetype": "text/x-python",
   "name": "python",
   "nbconvert_exporter": "python",
   "pygments_lexer": "ipython3",
   "version": "3.5.0"
  }
 },
 "nbformat": 4,
 "nbformat_minor": 0
}
