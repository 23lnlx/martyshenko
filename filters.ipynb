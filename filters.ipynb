{
 "cells": [
  {
   "cell_type": "code",
   "execution_count": 1,
   "metadata": {
    "collapsed": false
   },
   "outputs": [
    {
     "name": "stdout",
     "output_type": "stream",
     "text": [
      "Populating the interactive namespace from numpy and matplotlib\n"
     ]
    }
   ],
   "source": [
    "import numpy as np\n",
    "import pandas as pd\n",
    "import matplotlib.pylab as pl\n",
    "%pylab inline"
   ]
  },
  {
   "cell_type": "markdown",
   "metadata": {},
   "source": [
    "### Чтение файла "
   ]
  },
  {
   "cell_type": "code",
   "execution_count": 2,
   "metadata": {
    "collapsed": true
   },
   "outputs": [],
   "source": [
    "# менять данную константу, если нужно сменить имя файла\n",
    "FILE = 'done-12.xlsx'"
   ]
  },
  {
   "cell_type": "code",
   "execution_count": 3,
   "metadata": {
    "collapsed": false
   },
   "outputs": [],
   "source": [
    "# читаем данные\n",
    "data_full = pd.read_excel(FILE, index_col=0)"
   ]
  },
  {
   "cell_type": "code",
   "execution_count": 4,
   "metadata": {
    "collapsed": false
   },
   "outputs": [],
   "source": [
    "# Количество данных в пакете\n",
    "Nr = 50\n",
    "# Количество анкет\n",
    "N0 = len(data_full.index) \n",
    "packets_num = N0//Nr + 1"
   ]
  },
  {
   "cell_type": "code",
   "execution_count": 5,
   "metadata": {
    "collapsed": false
   },
   "outputs": [],
   "source": [
    "# делаем пакетную индексацию\n",
    "data_packet = data_full.copy()\n",
    "n_packets = N0//Nr\n",
    "index1 = []\n",
    "for i in range(n_packets):\n",
    "    index1 = index1 + [i]*Nr\n",
    "else:\n",
    "    index1 = index1 + [n_packets]*(N0 - Nr*n_packets)\n",
    "indexies = []\n",
    "indexies.append(index1)\n",
    "indexies.append(data_packet.index)\n",
    "data_packet.index = indexies"
   ]
  },
  {
   "cell_type": "code",
   "execution_count": 6,
   "metadata": {
    "collapsed": false
   },
   "outputs": [],
   "source": [
    "#data_packet.head(10)"
   ]
  },
  {
   "cell_type": "code",
   "execution_count": 7,
   "metadata": {
    "collapsed": false
   },
   "outputs": [],
   "source": [
    "#data_packet.index.get_level_values(0).unique()\n",
    "#data_packet.loc[data_packet.index.get_level_values(0) != 1]#.head(10)\n",
    "#data_packet.index.levels[0]"
   ]
  },
  {
   "cell_type": "markdown",
   "metadata": {},
   "source": [
    "## 1) Фильтр отсутствия данных"
   ]
  },
  {
   "cell_type": "code",
   "execution_count": 8,
   "metadata": {
    "collapsed": true
   },
   "outputs": [],
   "source": [
    "# принимаем данные\n",
    "DATA1 = data_full.copy()"
   ]
  },
  {
   "cell_type": "markdown",
   "metadata": {},
   "source": [
    "Формируем набор $\\phi_i $"
   ]
  },
  {
   "cell_type": "code",
   "execution_count": 9,
   "metadata": {
    "collapsed": false
   },
   "outputs": [],
   "source": [
    "import pheta_i as ph # функция подсчета pheta_i"
   ]
  },
  {
   "cell_type": "code",
   "execution_count": 10,
   "metadata": {
    "collapsed": false
   },
   "outputs": [],
   "source": [
    "# работа фильтра\n",
    "pheta_i = ph.make_pheta_i(DATA1)\n",
    "pheta_i = pheta_i.sort_values(ascending=False)"
   ]
  },
  {
   "cell_type": "markdown",
   "metadata": {},
   "source": [
    "Визуализируем"
   ]
  },
  {
   "cell_type": "code",
   "execution_count": 11,
   "metadata": {
    "collapsed": false
   },
   "outputs": [
    {
     "data": {
      "text/plain": [
       "Отметка времени\n",
       "2015-11-29 00:44:48.832    0.683034\n",
       "2015-12-01 15:28:33.576    0.683034\n",
       "2015-11-28 22:02:12.267    0.683034\n",
       "2015-12-01 15:08:55.786    0.683034\n",
       "2015-12-01 15:08:21.336    0.683034\n",
       "2015-12-01 14:43:21.908    0.683034\n",
       "2015-12-01 15:27:27.147    0.683034\n",
       "2015-12-01 15:23:02.265    0.672995\n",
       "2015-12-01 15:24:30.045    0.672995\n",
       "2015-12-02 15:27:09.000    0.672995\n",
       "dtype: float64"
      ]
     },
     "execution_count": 11,
     "metadata": {},
     "output_type": "execute_result"
    },
    {
     "data": {
      "image/png": "[encoded data removed]",
      "text/plain": [
       "<matplotlib.figure.Figure at 0x23cb69f5e80>"
      ]
     },
     "metadata": {},
     "output_type": "display_data"
    }
   ],
   "source": [
    "pheta_i[pheta_i>0.6].plot(kind='bar')\n",
    "pheta_i.head(10)"
   ]
  },
  {
   "cell_type": "code",
   "execution_count": 12,
   "metadata": {
    "collapsed": false
   },
   "outputs": [
    {
     "name": "stdout",
     "output_type": "stream",
     "text": [
      "Будет удалено 28 записей\n"
     ]
    }
   ],
   "source": [
    "#Константа для порогового значения, больше этого значения анкеты убираем\n",
    "THRESHOLD1 = 0.65\n",
    "FILTER1 = pheta_i[pheta_i>THRESHOLD1] # Фильтруем\n",
    "print(\"Будет удалено {} записей\".format(len(FILTER1)))"
   ]
  },
  {
   "cell_type": "code",
   "execution_count": 13,
   "metadata": {
    "collapsed": false
   },
   "outputs": [],
   "source": [
    "new_data1 = DATA1.drop(FILTER1.index) # создаем новые данные"
   ]
  },
  {
   "cell_type": "code",
   "execution_count": 14,
   "metadata": {
    "collapsed": true
   },
   "outputs": [],
   "source": [
    "#new_data1.to_excel(\"after_1_filter.xlsx\") # сохраняем"
   ]
  },
  {
   "cell_type": "markdown",
   "metadata": {},
   "source": [
    "##  2) Фильтр отсутствия данных групповой"
   ]
  },
  {
   "cell_type": "code",
   "execution_count": 15,
   "metadata": {
    "collapsed": true
   },
   "outputs": [],
   "source": [
    "DATA2 = data_packet.copy() # принимаем данные"
   ]
  },
  {
   "cell_type": "code",
   "execution_count": 16,
   "metadata": {
    "collapsed": false
   },
   "outputs": [],
   "source": [
    "# работа фильтра\n",
    "pheta_i = ph.make_pheta_i(DATA2) # делаем массив pheta_i"
   ]
  },
  {
   "cell_type": "code",
   "execution_count": 17,
   "metadata": {
    "collapsed": false
   },
   "outputs": [],
   "source": [
    "# считаем необходимые для фильтра коэффициенты\n",
    "Wr =  pheta_i.groupby(level=0).sum()/pheta_i.groupby(level=0).count()\n",
    "ss_pheta = pheta_i.sum()\n",
    "W_minus_r = (ss_pheta - pheta_i.groupby(level=0).sum()) / (N0 - pheta_i.groupby(level=0).count())\n",
    "Vr = W_minus_r - Wr"
   ]
  },
  {
   "cell_type": "markdown",
   "metadata": {},
   "source": [
    "Визуализируем"
   ]
  },
  {
   "cell_type": "code",
   "execution_count": 18,
   "metadata": {
    "collapsed": false
   },
   "outputs": [
    {
     "data": {
      "text/plain": [
       "Packets\n",
       "4   -0.089483\n",
       "2   -0.086872\n",
       "1    0.037610\n",
       "3    0.049938\n",
       "0    0.080504\n",
       "dtype: float64"
      ]
     },
     "execution_count": 18,
     "metadata": {},
     "output_type": "execute_result"
    },
    {
     "data": {
      "image/png": "[encoded data removed]",
      "text/plain": [
       "<matplotlib.figure.Figure at 0x23cb6c82320>"
      ]
     },
     "metadata": {},
     "output_type": "display_data"
    }
   ],
   "source": [
    "Vr.index.name = \"Packets\"\n",
    "Vr.sort_values().plot(kind='bar')\n",
    "Vr.sort_values().head()"
   ]
  },
  {
   "cell_type": "code",
   "execution_count": 19,
   "metadata": {
    "collapsed": false
   },
   "outputs": [
    {
     "name": "stdout",
     "output_type": "stream",
     "text": [
      "Будет удалено 2 пакета(ов)\n"
     ]
    }
   ],
   "source": [
    "#Константа для порогового значения, ниже этого значения анкеты убираем\n",
    "THRESHOLD2 = -0.01\n",
    "FILTER2 = Vr[Vr < THRESHOLD2]\n",
    "print(\"Будет удалено {} пакета(ов)\".format(len(FILTER2)))"
   ]
  },
  {
   "cell_type": "code",
   "execution_count": 20,
   "metadata": {
    "collapsed": true
   },
   "outputs": [],
   "source": [
    "new_data2 = DATA2.drop(FILTER2.index) # создаем новые данные"
   ]
  },
  {
   "cell_type": "code",
   "execution_count": 21,
   "metadata": {
    "collapsed": true
   },
   "outputs": [],
   "source": [
    "#new_data2.to_excel(\"after_2_filter.xlsx\") # сохраняем"
   ]
  },
  {
   "cell_type": "markdown",
   "metadata": {},
   "source": [
    "## 3) Фильтр экстремальных непрерывных значений"
   ]
  },
  {
   "cell_type": "code",
   "execution_count": 22,
   "metadata": {
    "collapsed": true
   },
   "outputs": [],
   "source": [
    "DATA3 = data_packet.copy() # принимаем данные"
   ]
  },
  {
   "cell_type": "code",
   "execution_count": 23,
   "metadata": {
    "collapsed": false
   },
   "outputs": [],
   "source": [
    "# работа фильтра\n",
    "import lambd as lb\n",
    "lambd = lb.make_lambd(DATA3, packets_num)\n",
    "max_lambd = lambd == lambd.max()\n",
    "Mu_i = max_lambd.sum(axis=1)"
   ]
  },
  {
   "cell_type": "markdown",
   "metadata": {},
   "source": [
    "Визуализируем"
   ]
  },
  {
   "cell_type": "code",
   "execution_count": 24,
   "metadata": {
    "collapsed": false,
    "scrolled": true
   },
   "outputs": [
    {
     "data": {
      "text/plain": [
       "Packets\n",
       "0    10\n",
       "1     6\n",
       "3     5\n",
       "2     3\n",
       "4     1\n",
       "dtype: int64"
      ]
     },
     "execution_count": 24,
     "metadata": {},
     "output_type": "execute_result"
    },
    {
     "data": {
      "image/png": "[encoded data removed]",
      "text/plain": [
       "<matplotlib.figure.Figure at 0x23cb6cfa438>"
      ]
     },
     "metadata": {},
     "output_type": "display_data"
    }
   ],
   "source": [
    "Mu_i = Mu_i.sort_values(ascending=False)\n",
    "Mu_i.index.name = \"Packets\"\n",
    "Mu_i.plot(kind='bar', x='packets')\n",
    "Mu_i.head()"
   ]
  },
  {
   "cell_type": "code",
   "execution_count": 25,
   "metadata": {
    "collapsed": false
   },
   "outputs": [
    {
     "name": "stdout",
     "output_type": "stream",
     "text": [
      "Будет удалено 1 пакета(ов)\n"
     ]
    }
   ],
   "source": [
    "#Константа для порогового значения, ниже этого значения анкеты убираем\n",
    "THRESHOLD3 = 8\n",
    "\n",
    "FILTER3 = Mu_i[Mu_i > THRESHOLD3]\n",
    "print(\"Будет удалено {} пакета(ов)\".format(len(FILTER3)))"
   ]
  },
  {
   "cell_type": "code",
   "execution_count": 26,
   "metadata": {
    "collapsed": false
   },
   "outputs": [],
   "source": [
    "new_data3 = DATA3.drop(FILTER3.index) # создаем новые данные"
   ]
  },
  {
   "cell_type": "code",
   "execution_count": 27,
   "metadata": {
    "collapsed": true
   },
   "outputs": [],
   "source": [
    "#new_data3.to_excel(\"after_3_filter.xlsx\") # сохраняем"
   ]
  },
  {
   "cell_type": "markdown",
   "metadata": {
    "collapsed": false
   },
   "source": [
    "## 4) Фильтр ранжирования непрерывных значений"
   ]
  },
  {
   "cell_type": "code",
   "execution_count": 28,
   "metadata": {
    "collapsed": true
   },
   "outputs": [],
   "source": [
    "DATA4 = data_packet.copy() # принимаем данные"
   ]
  },
  {
   "cell_type": "markdown",
   "metadata": {},
   "source": [
    "Альтернативный алгоритм"
   ]
  },
  {
   "cell_type": "code",
   "execution_count": 29,
   "metadata": {
    "collapsed": false
   },
   "outputs": [],
   "source": [
    "X_r1 = DATA4.groupby(level=0).mean()\n",
    "X_minus_r1=DATA4.groupby(level=0).apply(lambda row,group: DATA4.loc[DATA4.index.get_level_values(0) != group].mean(), 1)\n",
    "lambd4 = X_minus_r1 - X_r1"
   ]
  },
  {
   "cell_type": "code",
   "execution_count": 30,
   "metadata": {
    "collapsed": false
   },
   "outputs": [
    {
     "data": {
      "text/plain": [
       "Packets\n",
       "0    90.0\n",
       "2    84.5\n",
       "3    72.0\n",
       "1    65.0\n",
       "4    63.5\n",
       "dtype: float64"
      ]
     },
     "execution_count": 30,
     "metadata": {},
     "output_type": "execute_result"
    },
    {
     "data": {
      "image/png": "[encoded data removed]",
      "text/plain": [
       "<matplotlib.figure.Figure at 0x23cb6ecdf28>"
      ]
     },
     "metadata": {},
     "output_type": "display_data"
    }
   ],
   "source": [
    "rank_lambd = lambd4.rank()\n",
    "M_4 = rank_lambd.sum(axis=1)\n",
    "M_4 = M_4.sort_values(ascending=False)\n",
    "M_4.index.name = \"Packets\"\n",
    "M_4.plot(kind='bar')\n",
    "M_4.head()"
   ]
  },
  {
   "cell_type": "markdown",
   "metadata": {},
   "source": [
    "Альтернатива кончилась"
   ]
  },
  {
   "cell_type": "code",
   "execution_count": 31,
   "metadata": {
    "collapsed": false
   },
   "outputs": [],
   "source": [
    "# работа фильтра\n",
    "lambd4 = lb.make_lambd(DATA4, packets_num)\n",
    "rank_lambd = lambd4.rank()\n",
    "M_4 = rank_lambd.sum(axis=1)"
   ]
  },
  {
   "cell_type": "markdown",
   "metadata": {},
   "source": [
    "Визуализируем"
   ]
  },
  {
   "cell_type": "code",
   "execution_count": 32,
   "metadata": {
    "collapsed": false
   },
   "outputs": [
    {
     "data": {
      "text/plain": [
       "Packets\n",
       "0    89.0\n",
       "2    84.5\n",
       "3    71.5\n",
       "4    65.0\n",
       "1    65.0\n",
       "dtype: float64"
      ]
     },
     "execution_count": 32,
     "metadata": {},
     "output_type": "execute_result"
    },
    {
     "data": {
      "image/png": "[encoded data removed]",
      "text/plain": [
       "<matplotlib.figure.Figure at 0x23cb81a2048>"
      ]
     },
     "metadata": {},
     "output_type": "display_data"
    }
   ],
   "source": [
    "M_4 = M_4.sort_values(ascending=False)\n",
    "M_4.index.name = \"Packets\"\n",
    "M_4.plot(kind='bar')\n",
    "M_4.head()"
   ]
  },
  {
   "cell_type": "code",
   "execution_count": 33,
   "metadata": {
    "collapsed": false
   },
   "outputs": [
    {
     "name": "stdout",
     "output_type": "stream",
     "text": [
      "Будет удалено 2 пакета(ов)\n"
     ]
    }
   ],
   "source": [
    "#Константа для порогового значения, ниже этого значения анкеты убираем\n",
    "THRESHOLD4 = 80\n",
    "\n",
    "FILTER4 = M_4[M_4 > THRESHOLD4]\n",
    "print(\"Будет удалено {} пакета(ов)\".format(len(FILTER4)))"
   ]
  },
  {
   "cell_type": "code",
   "execution_count": 34,
   "metadata": {
    "collapsed": false
   },
   "outputs": [],
   "source": [
    "new_data4 = DATA4.drop(FILTER4.index) # создаем новые данные"
   ]
  },
  {
   "cell_type": "code",
   "execution_count": 35,
   "metadata": {
    "collapsed": true
   },
   "outputs": [],
   "source": [
    "#new_data4.to_excel(\"after_4_filter.xlsx\") # сохраняем"
   ]
  },
  {
   "cell_type": "markdown",
   "metadata": {},
   "source": [
    "## 5) Фильтр метрический непрерывных значений"
   ]
  },
  {
   "cell_type": "code",
   "execution_count": 36,
   "metadata": {
    "collapsed": false
   },
   "outputs": [],
   "source": [
    "DATA5 = data_full.copy() # принимаем данные\n",
    "#DATA5.apply(lambda row: row.name , axis=1)\n",
    "X = DATA5.copy()\n",
    "X_minus_i = DATA5.apply(lambda row: DATA5.loc[DATA5.index != row.name].mean() , axis=1)"
   ]
  },
  {
   "cell_type": "markdown",
   "metadata": {},
   "source": [
    "Расстояние Евклида"
   ]
  },
  {
   "cell_type": "code",
   "execution_count": 37,
   "metadata": {
    "collapsed": false
   },
   "outputs": [],
   "source": [
    "# Расстояние Евклида\n",
    "P_e = np.sqrt(np.square(X - X_minus_i).sum(1))\n",
    "P_e = P_e.sort_values(ascending=False)"
   ]
  },
  {
   "cell_type": "code",
   "execution_count": 42,
   "metadata": {
    "collapsed": false
   },
   "outputs": [
    {
     "data": {
      "text/plain": [
       "Отметка времени\n",
       "2015-11-24 16:12:54.851    62.303939\n",
       "2015-11-29 11:02:35.022    61.854194\n",
       "2015-11-29 01:54:58.565    61.472645\n",
       "2015-11-29 12:08:48.359    58.731171\n",
       "2015-11-29 12:37:35.778    57.787938\n",
       "dtype: float64"
      ]
     },
     "execution_count": 42,
     "metadata": {},
     "output_type": "execute_result"
    },
    {
     "data": {
      "image/png": "[encoded data removed]",
      "text/plain": [
       "<matplotlib.figure.Figure at 0x23cb6c57278>"
      ]
     },
     "metadata": {},
     "output_type": "display_data"
    }
   ],
   "source": [
    "P_e[P_e>0].plot(kind='bar', xticks=[])\n",
    "P_e.head()"
   ]
  },
  {
   "cell_type": "code",
   "execution_count": 43,
   "metadata": {
    "collapsed": false
   },
   "outputs": [
    {
     "name": "stdout",
     "output_type": "stream",
     "text": [
      "Будет удалено 3 записей\n"
     ]
    }
   ],
   "source": [
    "#Константа для порогового значения, ниже этого значения анкеты убираем\n",
    "THRESHOLD5_1 = 60\n",
    "\n",
    "FILTER5_1 = P_e[P_e > THRESHOLD5_1]\n",
    "print(\"Будет удалено {} записей\".format(len(FILTER5_1)))"
   ]
  },
  {
   "cell_type": "code",
   "execution_count": 44,
   "metadata": {
    "collapsed": true
   },
   "outputs": [],
   "source": [
    "new_data5_1 = DATA5.drop(FILTER5_1.index) # создаем новые данные\n",
    "#new_data5_1.to_excel(\"after_5_1_filter.xlsx\") # сохраняем"
   ]
  },
  {
   "cell_type": "markdown",
   "metadata": {},
   "source": [
    "Расстояние Хэмминга"
   ]
  },
  {
   "cell_type": "code",
   "execution_count": 45,
   "metadata": {
    "collapsed": true
   },
   "outputs": [],
   "source": [
    "P_x = np.abs(X - X_minus_i).sum(1)\n",
    "P_x = P_x.sort_values(ascending=False)"
   ]
  },
  {
   "cell_type": "code",
   "execution_count": 47,
   "metadata": {
    "collapsed": false
   },
   "outputs": [
    {
     "data": {
      "text/plain": [
       "Отметка времени\n",
       "2015-11-29 19:37:22.883    118.595241\n",
       "2015-11-28 20:24:23.080    116.159175\n",
       "2015-11-29 01:54:58.565    112.654400\n",
       "2015-11-25 00:04:09.927    108.817996\n",
       "2015-11-29 11:02:35.022    106.841584\n",
       "dtype: float64"
      ]
     },
     "execution_count": 47,
     "metadata": {},
     "output_type": "execute_result"
    },
    {
     "data": {
      "image/png": "[encoded data removed]",
      "text/plain": [
       "<matplotlib.figure.Figure at 0x23cb0c59518>"
      ]
     },
     "metadata": {},
     "output_type": "display_data"
    }
   ],
   "source": [
    "P_x[P_x>0].plot(kind='bar', xticks=[])\n",
    "P_x.head()"
   ]
  },
  {
   "cell_type": "code",
   "execution_count": 46,
   "metadata": {
    "collapsed": false
   },
   "outputs": [
    {
     "name": "stdout",
     "output_type": "stream",
     "text": [
      "Будет удалено 25 записей\n"
     ]
    }
   ],
   "source": [
    "#Константа для порогового значения, ниже этого значения анкеты убираем\n",
    "THRESHOLD5_2 = 80\n",
    "\n",
    "FILTER5_2 = P_x[P_x > THRESHOLD5_2]\n",
    "print(\"Будет удалено {} записей\".format(len(FILTER5_2)))"
   ]
  },
  {
   "cell_type": "code",
   "execution_count": 48,
   "metadata": {
    "collapsed": false
   },
   "outputs": [],
   "source": [
    "new_data5_2 = DATA5.drop(FILTER5_2.index) # создаем новые данные\n",
    "#new_data5_2.to_excel(\"after_5_2_filter.xlsx\") # сохраняем"
   ]
  },
  {
   "cell_type": "markdown",
   "metadata": {},
   "source": [
    "Кого-то там"
   ]
  },
  {
   "cell_type": "code",
   "execution_count": 218,
   "metadata": {
    "collapsed": false
   },
   "outputs": [],
   "source": [
    "# NaN-значения испортят все вычисления, нужно их обнулить\n",
    "X_stable = X.fillna(0)\n",
    "\n",
    "def calculate(row):\n",
    "    x_i_x_minus = (row - X_minus_i.loc[row.name])\n",
    "    \n",
    "    x_cov_i = X_minus_i.loc[X_minus_i.index != row.name].cov()\n",
    "    #print(x_cov_i)\n",
    "    return x_i_x_minus.dot(x_cov_i).dot(x_i_x_minus.transpose())\n",
    "\n",
    "P_m = X_stable.apply(calculate, axis=1)\n",
    "\n",
    "# почему-то породились 2 массива вида: array([[ 8.34035809,  8.34035809],[ 8.34035809,  8.34035809]]). Понятия не имею,\n",
    "# как они могли появиться. Возможно, в Pandas DataFrame представлен несколькими фреймами, а данные \n",
    "# функции пытаются эту сложность скрыть.\n",
    "\n",
    "def fixer(val):\n",
    "    if type(val) == np.ndarray:\n",
    "        return val[0][0]\n",
    "    else:\n",
    "        return val\n",
    "\n",
    "P_m = P_m.apply(fixer)\n",
    "P_m = P_m.sort_values(ascending=False)"
   ]
  },
  {
   "cell_type": "code",
   "execution_count": 224,
   "metadata": {
    "collapsed": false
   },
   "outputs": [
    {
     "data": {
      "text/plain": [
       "Отметка времени\n",
       "2015-11-24 16:12:54.851    72.103533\n",
       "2015-11-29 11:02:35.022    69.198354\n",
       "2015-11-29 12:08:48.359    67.772256\n",
       "2015-11-29 01:54:58.565    66.524454\n",
       "2015-11-29 12:37:35.778    65.628560\n",
       "dtype: float64"
      ]
     },
     "execution_count": 224,
     "metadata": {},
     "output_type": "execute_result"
    },
    {
     "data": {
      "image/png": "[encoded data removed]",
      "text/plain": [
       "<matplotlib.figure.Figure at 0x23cb8a839b0>"
      ]
     },
     "metadata": {},
     "output_type": "display_data"
    }
   ],
   "source": [
    "P_m[P_m>0].plot(kind='bar', xticks=[])\n",
    "P_m.head()"
   ]
  },
  {
   "cell_type": "code",
   "execution_count": 225,
   "metadata": {
    "collapsed": false
   },
   "outputs": [
    {
     "name": "stdout",
     "output_type": "stream",
     "text": [
      "Будет удалено 12 записей\n"
     ]
    }
   ],
   "source": [
    "#Константа для порогового значения, ниже этого значения анкеты убираем\n",
    "THRESHOLD5_3 = 50\n",
    "\n",
    "FILTER5_3 = P_m[P_m > THRESHOLD5_3]\n",
    "print(\"Будет удалено {} записей\".format(len(FILTER5_3)))"
   ]
  },
  {
   "cell_type": "code",
   "execution_count": 226,
   "metadata": {
    "collapsed": true
   },
   "outputs": [],
   "source": [
    "new_data5_3 = DATA5.drop(FILTER5_3.index) # создаем новые данные\n",
    "#new_data5_3.to_excel(\"after_5_3_filter.xlsx\") # сохраняем"
   ]
  },
  {
   "cell_type": "markdown",
   "metadata": {},
   "source": [
    "## 6) Фильтр частот кодирования"
   ]
  },
  {
   "cell_type": "code",
   "execution_count": null,
   "metadata": {
    "collapsed": true
   },
   "outputs": [],
   "source": []
  },
  {
   "cell_type": "code",
   "execution_count": 76,
   "metadata": {
    "collapsed": true
   },
   "outputs": [],
   "source": [
    "DATA6 = data_packet.copy() # принимаем данные"
   ]
  },
  {
   "cell_type": "code",
   "execution_count": null,
   "metadata": {
    "collapsed": true
   },
   "outputs": [],
   "source": [
    "# работа фильтра\n",
    "\n",
    "#for col in DATA7:\n",
    "#    val_frequency = dict(DATA7[col].value_counts())\n",
    "#    A[col] = DATA7[col].map(val_frequency)"
   ]
  },
  {
   "cell_type": "markdown",
   "metadata": {},
   "source": [
    "## 7) Фильтр замены кодированных значений"
   ]
  },
  {
   "cell_type": "code",
   "execution_count": 53,
   "metadata": {
    "collapsed": true
   },
   "outputs": [],
   "source": [
    "DATA7 = data_packet.copy() # принимаем данные"
   ]
  },
  {
   "cell_type": "code",
   "execution_count": 54,
   "metadata": {
    "collapsed": false
   },
   "outputs": [],
   "source": [
    "# работа фильтра\n",
    "A = pd.DataFrame()\n",
    "for col in DATA7:\n",
    "    val_frequency = dict(DATA7[col].value_counts())\n",
    "    A[col] = DATA7[col].map(val_frequency)\n",
    "A = A/len(A.index)\n",
    "A = A.sum(axis=1)"
   ]
  },
  {
   "cell_type": "markdown",
   "metadata": {},
   "source": [
    "Визуализируем"
   ]
  },
  {
   "cell_type": "code",
   "execution_count": 65,
   "metadata": {
    "collapsed": false
   },
   "outputs": [
    {
     "data": {
      "text/plain": [
       "   Отметка времени        \n",
       "0  2015-11-24 17:41:49.870    9.159836\n",
       "2  2015-11-17 22:55:49.975    9.098361\n",
       "1  2015-11-29 09:50:01.983    8.750000\n",
       "0  2015-11-24 16:58:34.352    8.733607\n",
       "2  2015-11-18 06:44:33.302    8.627049\n",
       "dtype: float64"
      ]
     },
     "execution_count": 65,
     "metadata": {},
     "output_type": "execute_result"
    },
    {
     "data": {
      "image/png": "[encoded data removed]",
      "text/plain": [
       "<matplotlib.figure.Figure at 0x1af1e02d438>"
      ]
     },
     "metadata": {},
     "output_type": "display_data"
    }
   ],
   "source": [
    "A = A.sort_values(ascending=False)\n",
    "A[A>8].plot(kind='bar')\n",
    "A[A>8].head()"
   ]
  },
  {
   "cell_type": "code",
   "execution_count": 71,
   "metadata": {
    "collapsed": false
   },
   "outputs": [
    {
     "name": "stdout",
     "output_type": "stream",
     "text": [
      "Будет удалено 48 записей\n"
     ]
    }
   ],
   "source": [
    "#Константа для порогового значения, ниже этого значения анкеты убираем\n",
    "THRESHOLD7 = 8\n",
    "\n",
    "FILTER7 = A[A > THRESHOLD7]\n",
    "print(\"Будет удалено {} записей\".format(len(FILTER7)))"
   ]
  },
  {
   "cell_type": "code",
   "execution_count": 74,
   "metadata": {
    "collapsed": false
   },
   "outputs": [],
   "source": [
    "new_data7 = DATA7.drop(FILTER7.index) # создаем новые данные"
   ]
  },
  {
   "cell_type": "code",
   "execution_count": 75,
   "metadata": {
    "collapsed": true
   },
   "outputs": [],
   "source": [
    "#new_data7.to_excel(\"after_7_filter.xlsx\") # сохраняем"
   ]
  }
 ],
 "metadata": {
  "kernelspec": {
   "display_name": "Python 3",
   "language": "python",
   "name": "python3"
  },
  "language_info": {
   "codemirror_mode": {
    "name": "ipython",
    "version": 3
   },
   "file_extension": ".py",
   "mimetype": "text/x-python",
   "name": "python",
   "nbconvert_exporter": "python",
   "pygments_lexer": "ipython3",
   "version": "3.5.0"
  }
 },
 "nbformat": 4,
 "nbformat_minor": 0
}
